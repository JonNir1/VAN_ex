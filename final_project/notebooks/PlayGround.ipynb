{
 "cells": [
  {
   "cell_type": "markdown",
   "source": [
    "NOTE: PyCharm’s Jupyter is not supported when using WSL, so need to use regular Windows interpreter"
   ],
   "metadata": {
    "collapsed": false,
    "pycharm": {
     "name": "#%% md\n"
    }
   }
  },
  {
   "cell_type": "code",
   "execution_count": 1,
   "outputs": [],
   "source": [
    "import os\n",
    "import time\n",
    "import cv2\n",
    "import numpy as np\n",
    "import pandas as pd\n",
    "from matplotlib import pyplot as plt\n",
    "\n",
    "import final_project.config as c\n",
    "from final_project.models.Camera import Camera\n",
    "from final_project.models.Frame import Frame\n",
    "from final_project.logic.Triangulation import triangulate\n",
    "from final_project.logic.PnP import pnp\n",
    "from final_project.logic.Ransac import RANSAC\n",
    "from final_project.models.Trajectory import Axis, Trajectory\n",
    "from final_project.service.InitialEstimateCalculator import IECalc"
   ],
   "metadata": {
    "collapsed": false,
    "pycharm": {
     "name": "#%%\n"
    }
   }
  },
  {
   "cell_type": "code",
   "execution_count": 2,
   "outputs": [
    {
     "name": "stdout",
     "output_type": "stream",
     "text": [
      "Calculating initial estimates for 50 Frames...\n",
      "Processed all 50 Frames in 0.53 minutes\n"
     ]
    }
   ],
   "source": [
    "N = 50\n",
    "mtchr = c.DEFAULT_MATCHER\n",
    "iec = IECalc(matcher=mtchr)\n",
    "frames = iec.process(num_frames=N, verbose=True)\n",
    "\n",
    "est_traj = Trajectory.from_relative_cameras([fr.left_cam for fr in frames])\n",
    "gt_traj = Trajectory.read_ground_truth(num_frames=N)"
   ],
   "metadata": {
    "collapsed": false,
    "pycharm": {
     "name": "#%%\n"
    }
   }
  },
  {
   "cell_type": "code",
   "execution_count": 7,
   "outputs": [
    {
     "data": {
      "text/plain": "                            XL           XR           Y\nFrameIdx TrackIdx                                      \n0        0          114.794060    76.028374  305.078033\n         1          120.391792    98.877213  167.202271\n         2          126.379478   104.629440   51.101704\n         3          127.248909    88.300995  305.082428\n         4          127.898529   106.527130   66.260361\n...                        ...          ...         ...\n49       8913      1182.543579  1158.373047  133.621796\n         8914      1190.739258  1166.901001  111.823006\n         8915      1197.983154  1168.075806  250.368164\n         8916      1202.046509  1171.115479  213.312134\n         8917      1207.390625  1176.800415  213.733917\n\n[30403 rows x 3 columns]",
      "text/html": "<div>\n<style scoped>\n    .dataframe tbody tr th:only-of-type {\n        vertical-align: middle;\n    }\n\n    .dataframe tbody tr th {\n        vertical-align: top;\n    }\n\n    .dataframe thead th {\n        text-align: right;\n    }\n</style>\n<table border=\"1\" class=\"dataframe\">\n  <thead>\n    <tr style=\"text-align: right;\">\n      <th></th>\n      <th></th>\n      <th>XL</th>\n      <th>XR</th>\n      <th>Y</th>\n    </tr>\n    <tr>\n      <th>FrameIdx</th>\n      <th>TrackIdx</th>\n      <th></th>\n      <th></th>\n      <th></th>\n    </tr>\n  </thead>\n  <tbody>\n    <tr>\n      <th rowspan=\"5\" valign=\"top\">0</th>\n      <th>0</th>\n      <td>114.794060</td>\n      <td>76.028374</td>\n      <td>305.078033</td>\n    </tr>\n    <tr>\n      <th>1</th>\n      <td>120.391792</td>\n      <td>98.877213</td>\n      <td>167.202271</td>\n    </tr>\n    <tr>\n      <th>2</th>\n      <td>126.379478</td>\n      <td>104.629440</td>\n      <td>51.101704</td>\n    </tr>\n    <tr>\n      <th>3</th>\n      <td>127.248909</td>\n      <td>88.300995</td>\n      <td>305.082428</td>\n    </tr>\n    <tr>\n      <th>4</th>\n      <td>127.898529</td>\n      <td>106.527130</td>\n      <td>66.260361</td>\n    </tr>\n    <tr>\n      <th>...</th>\n      <th>...</th>\n      <td>...</td>\n      <td>...</td>\n      <td>...</td>\n    </tr>\n    <tr>\n      <th rowspan=\"5\" valign=\"top\">49</th>\n      <th>8913</th>\n      <td>1182.543579</td>\n      <td>1158.373047</td>\n      <td>133.621796</td>\n    </tr>\n    <tr>\n      <th>8914</th>\n      <td>1190.739258</td>\n      <td>1166.901001</td>\n      <td>111.823006</td>\n    </tr>\n    <tr>\n      <th>8915</th>\n      <td>1197.983154</td>\n      <td>1168.075806</td>\n      <td>250.368164</td>\n    </tr>\n    <tr>\n      <th>8916</th>\n      <td>1202.046509</td>\n      <td>1171.115479</td>\n      <td>213.312134</td>\n    </tr>\n    <tr>\n      <th>8917</th>\n      <td>1207.390625</td>\n      <td>1176.800415</td>\n      <td>213.733917</td>\n    </tr>\n  </tbody>\n</table>\n<p>30403 rows × 3 columns</p>\n</div>"
     },
     "execution_count": 7,
     "metadata": {},
     "output_type": "execute_result"
    }
   ],
   "source": [
    "from final_project.models.DataBase import DataBase\n",
    "db = DataBase(frames)\n",
    "db._tracks_db"
   ],
   "metadata": {
    "collapsed": false,
    "pycharm": {
     "name": "#%%\n"
    }
   }
  },
  {
   "cell_type": "code",
   "execution_count": 3,
   "outputs": [],
   "source": [],
   "metadata": {
    "collapsed": false,
    "pycharm": {
     "name": "#%%\n"
    }
   }
  },
  {
   "cell_type": "code",
   "execution_count": null,
   "outputs": [],
   "source": [],
   "metadata": {
    "collapsed": false,
    "pycharm": {
     "name": "#%%\n"
    }
   }
  },
  {
   "cell_type": "code",
   "execution_count": null,
   "outputs": [],
   "source": [],
   "metadata": {
    "collapsed": false,
    "pycharm": {
     "name": "#%%\n"
    }
   }
  },
  {
   "cell_type": "code",
   "execution_count": 7,
   "outputs": [
    {
     "name": "stdout",
     "output_type": "stream",
     "text": [
      "(383, 3) (383, 4)\n",
      "\tRANSAC:\tinitial estimation loop\n",
      "\t\tTime:\t0.02\tIterations:\t7\n",
      "\tRANSAC:\trefinement loop\n",
      "\t\tTime:\t0.02\tIterations:\t2\n"
     ]
    }
   ],
   "source": [
    "mtchr = c.DEFAULT_MATCHER\n",
    "left_cam0, right_cam0 = Camera.read_initial_cameras()\n",
    "\n",
    "fr0 = Frame(0, left_cam0, matcher=mtchr)\n",
    "fr1 = Frame(1, matcher=mtchr)\n",
    "\n",
    "matched_idxs = mtchr.match_descriptors(fr0.descriptors, fr1.descriptors)\n",
    "fl_pixels = np.array(fr1.features[[idx[1] for idx in matched_idxs]])\n",
    "bl_pixels = np.array(fr0.features[[idx[0] for idx in matched_idxs], :2])\n",
    "br_pixels = np.array(fr0.features[[idx[0] for idx in matched_idxs], 2:])\n",
    "back_landmarks = triangulate(bl_pixels, br_pixels, left_cam0)\n",
    "print(back_landmarks.shape, fl_pixels.shape)\n",
    "\n",
    "r = RANSAC(back_landmarks=back_landmarks, front_features=fl_pixels, verbose=True)\n",
    "idxs, cam = r.run()"
   ],
   "metadata": {
    "collapsed": false,
    "pycharm": {
     "name": "#%%\n"
    }
   }
  },
  {
   "cell_type": "code",
   "execution_count": 15,
   "outputs": [
    {
     "data": {
      "text/plain": "1"
     },
     "execution_count": 15,
     "metadata": {},
     "output_type": "execute_result"
    }
   ],
   "source": [
    "from typing import Dict, Tuple\n",
    "d: Dict[Tuple[float, float, float, float], int] = {}\n",
    "d[(0.5, 2.2, 1.1, 1.1)] = 2\n",
    "d[(1,2,3,4)] = 1\n",
    "\n",
    "arr = np.array([1,2,3,4])\n",
    "d[tuple(arr)]"
   ],
   "metadata": {
    "collapsed": false,
    "pycharm": {
     "name": "#%%\n"
    }
   }
  },
  {
   "cell_type": "code",
   "execution_count": 7,
   "outputs": [
    {
     "name": "stdout",
     "output_type": "stream",
     "text": [
      "0\n",
      "100\n",
      "200\n",
      "300\n",
      "400\n",
      "500\n",
      "600\n",
      "700\n",
      "800\n",
      "900\n",
      "1000\n",
      "1100\n",
      "1200\n",
      "1300\n",
      "1400\n",
      "1500\n",
      "1600\n",
      "1700\n",
      "1800\n",
      "1900\n",
      "2000\n",
      "2100\n",
      "2200\n",
      "2300\n",
      "2400\n",
      "2500\n",
      "2600\n",
      "2700\n",
      "2800\n",
      "2900\n",
      "3000\n",
      "3100\n",
      "3200\n",
      "3300\n",
      "3400\n",
      "2158.3360724449158\n"
     ]
    }
   ],
   "source": [
    "start = time.time()\n",
    "\n",
    "count = np.zeros((3450,))\n",
    "for i in range(3450):\n",
    "    f = Frame(i)\n",
    "    count[i] = f.num_features\n",
    "    if i%50 == 0:\n",
    "        print(i)\n",
    "\n",
    "end = time.time()\n",
    "print(end - start)"
   ],
   "metadata": {
    "collapsed": false,
    "pycharm": {
     "name": "#%%\n"
    }
   }
  },
  {
   "cell_type": "code",
   "execution_count": 11,
   "outputs": [
    {
     "name": "stdout",
     "output_type": "stream",
     "text": [
      "i=0\n"
     ]
    },
    {
     "ename": "AttributeError",
     "evalue": "'numpy.ndarray' object has no attribute 'pt'",
     "output_type": "error",
     "traceback": [
      "\u001B[1;31m---------------------------------------------------------------------------\u001B[0m",
      "\u001B[1;31mAttributeError\u001B[0m                            Traceback (most recent call last)",
      "Input \u001B[1;32mIn [11]\u001B[0m, in \u001B[0;36m<cell line: 5>\u001B[1;34m()\u001B[0m\n\u001B[0;32m      8\u001B[0m bf \u001B[38;5;241m=\u001B[39m Frame(i)\n\u001B[0;32m      9\u001B[0m ff \u001B[38;5;241m=\u001B[39m Frame(i\u001B[38;5;241m+\u001B[39m\u001B[38;5;241m1\u001B[39m)\n\u001B[1;32m---> 10\u001B[0m matches \u001B[38;5;241m=\u001B[39m \u001B[43mmtchr\u001B[49m\u001B[38;5;241;43m.\u001B[39;49m\u001B[43mmatch\u001B[49m\u001B[43m(\u001B[49m\u001B[43mbf\u001B[49m\u001B[38;5;241;43m.\u001B[39;49m\u001B[43mfeatures\u001B[49m\u001B[43m,\u001B[49m\u001B[43m \u001B[49m\u001B[43mbf\u001B[49m\u001B[38;5;241;43m.\u001B[39;49m\u001B[43mdescriptors\u001B[49m\u001B[43m,\u001B[49m\u001B[43m \u001B[49m\u001B[43mff\u001B[49m\u001B[38;5;241;43m.\u001B[39;49m\u001B[43mfeatures\u001B[49m\u001B[43m,\u001B[49m\u001B[43m \u001B[49m\u001B[43mff\u001B[49m\u001B[38;5;241;43m.\u001B[39;49m\u001B[43mdescriptors\u001B[49m\u001B[43m)\u001B[49m\n\u001B[0;32m     11\u001B[0m back_features \u001B[38;5;241m=\u001B[39m bf\u001B[38;5;241m.\u001B[39mfeatures[[m\u001B[38;5;241m.\u001B[39mqueryIdx \u001B[38;5;28;01mfor\u001B[39;00m m \u001B[38;5;129;01min\u001B[39;00m matches]]\n\u001B[0;32m     12\u001B[0m front_features \u001B[38;5;241m=\u001B[39m ff\u001B[38;5;241m.\u001B[39mfeatures[[m\u001B[38;5;241m.\u001B[39mtrainIdx \u001B[38;5;28;01mfor\u001B[39;00m m \u001B[38;5;129;01min\u001B[39;00m matches]]\n",
      "File \u001B[1;32m~\\Documents\\University\\Masters\\Computer Vision Aided Navigation\\VAN_ex\\final_project\\models\\Matcher.py:42\u001B[0m, in \u001B[0;36mMatcher.match\u001B[1;34m(self, kps1, descs1, kps2, descs2)\u001B[0m\n\u001B[0;32m     40\u001B[0m \u001B[38;5;28;01mfor\u001B[39;00m m \u001B[38;5;129;01min\u001B[39;00m matches:\n\u001B[0;32m     41\u001B[0m     kp1, kp2 \u001B[38;5;241m=\u001B[39m kps1[m\u001B[38;5;241m.\u001B[39mqueryIdx], kps2[m\u001B[38;5;241m.\u001B[39mtrainIdx]\n\u001B[1;32m---> 42\u001B[0m     x1, y1 \u001B[38;5;241m=\u001B[39m \u001B[43mkp1\u001B[49m\u001B[38;5;241;43m.\u001B[39;49m\u001B[43mpt\u001B[49m\n\u001B[0;32m     43\u001B[0m     x2, y2 \u001B[38;5;241m=\u001B[39m kp2\u001B[38;5;241m.\u001B[39mpt\n\u001B[0;32m     44\u001B[0m     features_list\u001B[38;5;241m.\u001B[39mappend([x1, y1, x2, y2])\n",
      "\u001B[1;31mAttributeError\u001B[0m: 'numpy.ndarray' object has no attribute 'pt'"
     ]
    }
   ],
   "source": [
    "idxs = [0, 1, 500, 2456]\n",
    "mtchr = c.DEFAULT_MATCHER\n",
    "left_cam0, right_cam0 = Camera.read_initial_cameras()\n",
    "\n",
    "for i in idxs:\n",
    "    start = time.time()\n",
    "    print(f\"i={i}\")\n",
    "    bf = Frame(i)\n",
    "    ff = Frame(i+1)\n",
    "    matches = mtchr.match(bf.features, bf.descriptors, ff.features, ff.descriptors)\n",
    "    back_features = bf.features[[m.queryIdx for m in matches]]\n",
    "    front_features = ff.features[[m.trainIdx for m in matches]]\n",
    "    print(back_features.shape)\n",
    "    print(front_features.shape)"
   ],
   "metadata": {
    "collapsed": false,
    "pycharm": {
     "name": "#%%\n"
    }
   }
  }
 ],
 "metadata": {
  "kernelspec": {
   "display_name": "Python 3",
   "language": "python",
   "name": "python3"
  },
  "language_info": {
   "codemirror_mode": {
    "name": "ipython",
    "version": 3
   },
   "file_extension": ".py",
   "mimetype": "text/x-python",
   "name": "python",
   "nbconvert_exporter": "python",
   "pygments_lexer": "ipython3",
   "version": "3.8.5"
  }
 },
 "nbformat": 4,
 "nbformat_minor": 4
}