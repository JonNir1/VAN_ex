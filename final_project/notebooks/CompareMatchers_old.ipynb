{
 "cells": [
  {
   "cell_type": "markdown",
   "source": [
    "### Important Note:\n",
    "PyCharm's Jupyter is not supported when using WSL, so need to use regular Windows interpreter"
   ],
   "metadata": {
    "collapsed": false,
    "pycharm": {
     "name": "#%% md\n"
    }
   }
  },
  {
   "cell_type": "code",
   "execution_count": 6,
   "outputs": [],
   "source": [
    "import time\n",
    "import numpy as np\n",
    "import cv2\n",
    "\n",
    "import final_project.utils as u"
   ],
   "metadata": {
    "collapsed": false,
    "pycharm": {
     "name": "#%%\n"
    }
   }
  },
  {
   "cell_type": "markdown",
   "source": [
    "Measure the time it takes to detect and match within-frame\n",
    "Also, extract left descriptors of inliers, to use when measuring between-frame matchings"
   ],
   "metadata": {
    "collapsed": false
   }
  },
  {
   "cell_type": "code",
   "execution_count": 13,
   "outputs": [],
   "source": [
    "def measure_within_frame(detector, matcher):\n",
    "    num_frames = 3450\n",
    "    detect_times = np.zeros((num_frames,))\n",
    "\n",
    "    regular_match_times = np.zeros((num_frames,))\n",
    "    regular_match_counts = np.zeros((num_frames,))\n",
    "    regular_match_inlier_descriptors = []\n",
    "\n",
    "    knn_match_times = np.zeros((num_frames,))\n",
    "    knn_match_counts = np.zeros((num_frames,))\n",
    "    knn_match_inlier_descriptors = []\n",
    "\n",
    "    for idx in range(num_frames):\n",
    "        img_l, img_r = u.read_images(idx)\n",
    "\n",
    "        start = time.time()\n",
    "        kps_left, desc_left = detector.detectAndCompute(img_l, None)\n",
    "        kps_right, desc_right = detector.detectAndCompute(img_r, None)\n",
    "        detect_times[idx] = time.time() - start\n",
    "\n",
    "        start = time.time()\n",
    "        regular_matches = matcher.match(desc_left, desc_right)\n",
    "        inlier_descriptors = []\n",
    "        for m in regular_matches:\n",
    "            kpl, kpr = kps_left[m.queryIdx], kps_left[m.trainIdx]\n",
    "            yl, yr = kpl.pt[1], kpr.pt[1]\n",
    "            if abs(yl - yr) <= 1:\n",
    "                inlier_descriptors.append(desc_left[m.queryIdx])\n",
    "        regular_match_times[idx] = time.time() - start\n",
    "        regular_match_counts[idx] = len(regular_matches)\n",
    "        regular_match_inlier_descriptors.append(np.array(inlier_descriptors))\n",
    "\n",
    "        start = time.time()\n",
    "        knn_matches = matcher.knnMatch(desc_left, desc_right, 2)\n",
    "        good_matches = [first for (first, second) in knn_matches if first.distance / second.distance <= 0.75]\n",
    "        inlier_descriptors = []\n",
    "        for m in good_matches:\n",
    "            kpl, kpr = kps_left[m.queryIdx], kps_left[m.trainIdx]\n",
    "            yl, yr = kpl.pt[1], kpr.pt[1]\n",
    "            if abs(yl - yr) <= 1:\n",
    "                inlier_descriptors.append(desc_left[m.queryIdx])\n",
    "        knn_match_times[idx] = time.time() - start\n",
    "        knn_match_counts[idx] = len(knn_matches)\n",
    "        knn_match_inlier_descriptors.append(np.array(inlier_descriptors))\n",
    "        break\n",
    "    return detect_times, regular_match_times, regular_match_counts, regular_match_inlier_descriptors, knn_match_times, knn_match_counts, knn_match_inlier_descriptors"
   ],
   "metadata": {
    "collapsed": false,
    "pycharm": {
     "name": "#%%\n"
    }
   }
  },
  {
   "cell_type": "markdown",
   "source": [
    "Measure matching between consecutive frames, based on descriptors from within-frames matching"
   ],
   "metadata": {
    "collapsed": false,
    "pycharm": {
     "name": "#%% md\n"
    }
   }
  },
  {
   "cell_type": "code",
   "execution_count": 8,
   "outputs": [],
   "source": [
    "def measure_between_frame(matcher, left_descriptors):\n",
    "    num_frames = 3450\n",
    "\n",
    "    regular_match_times = np.zeros((num_frames,))\n",
    "    regular_match_counts = np.zeros((num_frames,))\n",
    "\n",
    "    knn_match_times = np.zeros((num_frames,))\n",
    "    knn_match_counts = np.zeros((num_frames,))\n",
    "\n",
    "    for idx in range(1, num_frames):\n",
    "        prev_desc = left_descriptors[idx-1]\n",
    "        curr_desc = left_descriptors[idx]\n",
    "\n",
    "        start = time.time()\n",
    "        regular_matches = matcher.match(prev_desc, curr_desc)\n",
    "        regular_match_times[idx] = time.time() - start\n",
    "        regular_match_counts[idx] = len(regular_matches)\n",
    "\n",
    "        start = time.time()\n",
    "        knn_matches = matcher.knnMatch(prev_desc, curr_desc, 2)\n",
    "        knn_match_times[idx] = time.time() - start\n",
    "        knn_match_counts[idx] = len(knn_matches)\n",
    "    return regular_match_times, knn_match_counts, knn_match_times, knn_match_counts"
   ],
   "metadata": {
    "collapsed": false,
    "pycharm": {
     "name": "#%%\n"
    }
   }
  },
  {
   "cell_type": "markdown",
   "source": [
    "## Start Measuring"
   ],
   "metadata": {
    "collapsed": false,
    "pycharm": {
     "name": "#%% md\n"
    }
   }
  },
  {
   "cell_type": "markdown",
   "source": [
    "### Pair #1\n",
    "Detector: ORB\n",
    "Matcher: BF (no Cross-Check)"
   ],
   "metadata": {
    "collapsed": false,
    "pycharm": {
     "name": "#%% md\n"
    }
   }
  },
  {
   "cell_type": "code",
   "source": [
    "det_type = \"ORB\"\n",
    "mtchr_type = \"BF (no Cross-Check)\"\n",
    "\n",
    "print(f\"Detector:\\t{det_type}\")\n",
    "print(f\"Matcher:\\t{mtchr_type}\")\n",
    "\n",
    "det = cv2.ORB_create()\n",
    "mtchr = cv2.BFMatcher(cv2.NORM_HAMMING, crossCheck=False)\n",
    "\n",
    "within_frame_results = measure_within_frame(det, mtchr)\n",
    "\n",
    "detect_times = within_frame_results[0]\n",
    "regular_match_times = within_frame_results[1]\n",
    "regular_match_counts = within_frame_results[2]\n",
    "regular_match_inlier_descriptors = within_frame_results[3]\n",
    "regular_match_inlier_percents = np.array([len(regular_match_inlier_descriptors[i]) / regular_match_counts[i] for i in range(len(regular_match_inlier_descriptors))])\n",
    "\n",
    "knn_match_times = within_frame_results[4]\n",
    "knn_match_counts = within_frame_results[5]\n",
    "knn_match_inlier_descriptors = within_frame_results[6]\n",
    "knn_match_inlier_percents = np.array([len(knn_match_inlier_descriptors[i]) / knn_match_counts[i] for i in range(len(knn_match_inlier_descriptors))])\n",
    "\n",
    "print(\"\\tDetection:\")\n",
    "print(f\"\\tTimes:\\t\\tMean:\\t{detect_times.mean():.2f}\\t\\tMin:\\t{detect_times.min():.2f}\\t\\tMax:\\t{detect_times.max():.2f}\")\n",
    "\n",
    "print(\"\\tRegular Matching Within:\")\n",
    "print(f\"\\tTimes:\\t\\tMean:\\t{regular_match_times.mean():.2f}\\t\\tMin:\\t{regular_match_times.min():.2f}\\t\\tMax:\\t{regular_match_times.max():.2f}\")\n",
    "print(f\"\\tCounts:\\t\\tMean:\\t{regular_match_counts.mean():.2f}\\t\\tMin:\\t{regular_match_counts.min():.2f}\\t\\tMax:\\t{regular_match_counts.max():.2f}\")\n",
    "print(f\"\\tInliers:\\t\\tMean:\\t{regular_match_inlier_percents.mean():.2f}\\t\\tMin:\\t{regular_match_inlier_percents.min():.2f}\\t\\tMax:\\t{regular_match_inlier_percents.max():.2f}\")\n",
    "\n",
    "print(\"\\tKNN Matching Within:\")\n",
    "print(f\"\\tTimes:\\t\\tMean:\\t{knn_match_times.mean():.2f}\\t\\tMin:\\t{knn_match_times.min():.2f}\\t\\tMax:\\t{knn_match_times.max():.2f}\")\n",
    "print(f\"\\tCounts:\\t\\tMean:\\t{knn_match_counts.mean():.2f}\\t\\tMin:\\t{knn_match_counts.min():.2f}\\t\\tMax:\\t{knn_match_counts.max():.2f}\")\n",
    "print(f\"\\tInliers:\\t\\tMean:\\t{knn_match_inlier_percents.mean():.2f}\\t\\tMin:\\t{knn_match_inlier_percents.min():.2f}\\t\\tMax:\\t{knn_match_inlier_percents.max():.2f}\")"
   ],
   "metadata": {
    "collapsed": false,
    "pycharm": {
     "name": "#%%\n"
    }
   },
   "execution_count": 15,
   "outputs": [
    {
     "name": "stdout",
     "output_type": "stream",
     "text": [
      "Detector:\tORB\n",
      "Matcher:\tBF (no Cross-Check)\n",
      "\tDetection:\n",
      "\tTimes:\t\tMean:\t0.00\t\tMin:\t0.00\t\tMax:\t0.02\n",
      "\tRegular Matching Within:\n",
      "\tTimes:\t\tMean:\t0.00\t\tMin:\t0.00\t\tMax:\t0.00\n",
      "\tCounts:\t\tMean:\t0.14\t\tMin:\t0.00\t\tMax:\t500.00\n",
      "\tInliers:\t\tMean:\t0.02\t\tMin:\t0.02\t\tMax:\t0.02\n",
      "\tKNN Matching Within:\n",
      "\tTimes:\t\tMean:\t0.00\t\tMin:\t0.00\t\tMax:\t0.00\n",
      "\tCounts:\t\tMean:\t0.14\t\tMin:\t0.00\t\tMax:\t500.00\n",
      "\tInliers:\t\tMean:\t0.01\t\tMin:\t0.01\t\tMax:\t0.01\n"
     ]
    }
   ]
  },
  {
   "cell_type": "code",
   "execution_count": null,
   "outputs": [],
   "source": [],
   "metadata": {
    "collapsed": false,
    "pycharm": {
     "name": "#%%\n"
    }
   }
  },
  {
   "cell_type": "code",
   "execution_count": null,
   "outputs": [],
   "source": [],
   "metadata": {
    "collapsed": false,
    "pycharm": {
     "name": "#%%\n"
    }
   }
  },
  {
   "cell_type": "code",
   "execution_count": null,
   "outputs": [],
   "source": [
    "orb_detector = cv2.ORB_create()\n",
    "sift_detector = cv2.SIFT_create()\n",
    "\n",
    "bf_matcher_no_cs = cv2.BFMatcher(norm=cv2.NORM_L2, cross_check=False)\n",
    "bf_matcher_with_cs = cv2.BFMatcher(norm=cv2.NORM_L2, cross_check=True)\n",
    "flann_matcher = cv2.FlannBasedMatcher(indexParams=dict(algorithm=0, trees=5), searchParams=dict(checks=50))"
   ],
   "metadata": {
    "collapsed": false,
    "pycharm": {
     "name": "#%%\n"
    }
   }
  }
 ],
 "metadata": {
  "kernelspec": {
   "display_name": "Python 3",
   "language": "python",
   "name": "python3"
  },
  "language_info": {
   "codemirror_mode": {
    "name": "ipython",
    "version": 3
   },
   "file_extension": ".py",
   "mimetype": "text/x-python",
   "name": "python",
   "nbconvert_exporter": "python",
   "pygments_lexer": "ipython3",
   "version": "3.8.5"
  }
 },
 "nbformat": 4,
 "nbformat_minor": 1
}