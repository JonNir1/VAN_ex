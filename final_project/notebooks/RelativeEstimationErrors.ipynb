{
 "cells": [
  {
   "cell_type": "code",
   "execution_count": 1,
   "metadata": {
    "collapsed": true
   },
   "outputs": [],
   "source": [
    "import os\n",
    "import numpy as np\n",
    "import pandas as pd\n",
    "from matplotlib import pyplot as plt\n",
    "\n",
    "import final_project.config as c\n",
    "import final_project.logic.Utils as u\n",
    "from final_project.logic.Utils import Axis, EulerAngle as EA\n",
    "from final_project.models.Trajectory import Trajectory\n",
    "\n",
    "# \"#1b7837\", \"#de77ae\", \"#762a83\"\n",
    "COLORS = [\"gold\", \"cyan\", \"lightgreen\", 'k']"
   ]
  },
  {
   "cell_type": "code",
   "execution_count": 2,
   "outputs": [],
   "source": [
    "# load data:\n",
    "rel_pnp_cameras = pd.read_pickle(os.path.join(c.DATA_WRITE_PATH, \"pnp_cameras.pkl\"))\n",
    "abs_pnp_cameras = pd.Series(u.convert_to_absolute_cameras(rel_pnp_cameras), index=rel_pnp_cameras.index, name=rel_pnp_cameras.name)\n",
    "pnp_traj = Trajectory.from_absolute_cameras(abs_pnp_cameras)\n",
    "\n",
    "rel_ba_cameras = pd.read_pickle(os.path.join(c.DATA_WRITE_PATH, \"ba_cameras.pkl\"))\n",
    "abs_ba_cameras = pd.Series(u.convert_to_absolute_cameras(rel_ba_cameras), index=rel_ba_cameras.index, name=rel_ba_cameras.name)\n",
    "ba_traj = Trajectory.from_absolute_cameras(abs_ba_cameras)\n",
    "\n",
    "rel_pg_cameras = pd.read_pickle(os.path.join(c.DATA_WRITE_PATH, \"pg_cameras.pkl\"))\n",
    "abs_pg_cameras = pd.Series(u.convert_to_absolute_cameras(rel_pg_cameras), index=rel_pg_cameras.index, name=rel_pg_cameras.name)\n",
    "pg_traj = Trajectory.from_absolute_cameras(abs_pg_cameras)\n",
    "\n",
    "rel_gt_cameras = pd.Series(u.read_ground_truth_cameras(use_relative=True), index=rel_pnp_cameras.index, name=\"gt_cameras\")\n",
    "abs_gt_cameras = pd.Series(u.read_ground_truth_cameras(use_relative=False), index=rel_gt_cameras.index, name=rel_gt_cameras.name)\n",
    "gt_traj = Trajectory.from_absolute_cameras(abs_gt_cameras)"
   ],
   "metadata": {
    "collapsed": false,
    "pycharm": {
     "name": "#%%\n"
    }
   }
  },
  {
   "cell_type": "code",
   "execution_count": 6,
   "outputs": [],
   "source": [
    "def calculate_movement_along_axis(abs_cams: pd.Series, axis: Axis) -> pd.Series:\n",
    "    t = Trajectory.from_absolute_cameras(abs_cams)\n",
    "    coords = t.coordinates  # shape (3, N) repr. locations relative to first Camera/Frame\n",
    "    real_movement = np.diff(coords, 1)  # shape (3, N-1) repr. actual movement on each axis, relative to previous location\n",
    "    if axis == Axis.ALL:\n",
    "        axis_movement = np.linalg.norm(real_movement, ord=2, axis=0)  # shape (N-1,) repr. distance travelled (L2) between successive Frames\n",
    "    else:\n",
    "        axis_movement = real_movement[axis.value]  # shape (N-1,) repr. distance travelled on a single axis (X/Y/Z) between successive Frames\n",
    "    s = pd.Series(axis_movement, index=abs_cams.index[:-1], name=axis.name)\n",
    "    return s\n",
    "\n",
    "def calculate_distance_along_axis(est_cams, gt_cams, axis: Axis) -> pd.Series:\n",
    "    assert len(est_cams) == len(gt_cams)\n",
    "    est = Trajectory.from_absolute_cameras(est_cams)\n",
    "    gt = Trajectory.from_absolute_cameras(gt_cams)\n",
    "    coords_diff = est.coordinates - gt.coordinates\n",
    "    if axis != Axis.ALL:\n",
    "        distances = coords_diff[axis.value]\n",
    "    else:\n",
    "        distances = np.linalg.norm(coords_diff, ord=2, axis=0)\n",
    "    res = pd.Series(distances, name=axis.name, index=est_cams.index)\n",
    "    return res\n",
    "\n",
    "def running_sum(s: pd.Series, window: int) -> pd.Series:\n",
    "    num_vals = len(s)\n",
    "    assert window > 0, \"window size must be positive\"\n",
    "    assert num_vals > window, \"window size cannot be bigger than input series\"\n",
    "    res = s.rolling(window).sum().dropna()\n",
    "    res.index = res.index - res.index.min()  # index should start at 0\n",
    "    assert res.shape == (num_vals - window + 1,), f\"{num_vals} - {window} +1 != {res.shape}\"\n",
    "    return res"
   ],
   "metadata": {
    "collapsed": false,
    "pycharm": {
     "name": "#%%\n"
    }
   }
  },
  {
   "cell_type": "code",
   "execution_count": 80,
   "outputs": [
    {
     "name": "stdout",
     "output_type": "stream",
     "text": [
      "11.33\t23.55\t3.08\t0.53\t175.20\n"
     ]
    },
    {
     "data": {
      "text/plain": "                  X         X         X\nFrameIdx                               \n0         24.596661  1.018393  4.140369\n1         25.387212  1.036153  4.081398\n2         26.177500  1.035116  3.954221\n3         26.973901  1.038119  3.848606\n4         27.778316  1.044704  3.760862\n...             ...       ...       ...\n3346      59.635690  1.202214  2.015930\n3347      60.493929  1.159933  1.917437\n3348      61.348803  1.150495  1.875334\n3349      62.191478  1.129118  1.815551\n3350            NaN  1.106324       NaN\n\n[3351 rows x 3 columns]",
      "text/html": "<div>\n<style scoped>\n    .dataframe tbody tr th:only-of-type {\n        vertical-align: middle;\n    }\n\n    .dataframe tbody tr th {\n        vertical-align: top;\n    }\n\n    .dataframe thead th {\n        text-align: right;\n    }\n</style>\n<table border=\"1\" class=\"dataframe\">\n  <thead>\n    <tr style=\"text-align: right;\">\n      <th></th>\n      <th>X</th>\n      <th>X</th>\n      <th>X</th>\n    </tr>\n    <tr>\n      <th>FrameIdx</th>\n      <th></th>\n      <th></th>\n      <th></th>\n    </tr>\n  </thead>\n  <tbody>\n    <tr>\n      <th>0</th>\n      <td>24.596661</td>\n      <td>1.018393</td>\n      <td>4.140369</td>\n    </tr>\n    <tr>\n      <th>1</th>\n      <td>25.387212</td>\n      <td>1.036153</td>\n      <td>4.081398</td>\n    </tr>\n    <tr>\n      <th>2</th>\n      <td>26.177500</td>\n      <td>1.035116</td>\n      <td>3.954221</td>\n    </tr>\n    <tr>\n      <th>3</th>\n      <td>26.973901</td>\n      <td>1.038119</td>\n      <td>3.848606</td>\n    </tr>\n    <tr>\n      <th>4</th>\n      <td>27.778316</td>\n      <td>1.044704</td>\n      <td>3.760862</td>\n    </tr>\n    <tr>\n      <th>...</th>\n      <td>...</td>\n      <td>...</td>\n      <td>...</td>\n    </tr>\n    <tr>\n      <th>3346</th>\n      <td>59.635690</td>\n      <td>1.202214</td>\n      <td>2.015930</td>\n    </tr>\n    <tr>\n      <th>3347</th>\n      <td>60.493929</td>\n      <td>1.159933</td>\n      <td>1.917437</td>\n    </tr>\n    <tr>\n      <th>3348</th>\n      <td>61.348803</td>\n      <td>1.150495</td>\n      <td>1.875334</td>\n    </tr>\n    <tr>\n      <th>3349</th>\n      <td>62.191478</td>\n      <td>1.129118</td>\n      <td>1.815551</td>\n    </tr>\n    <tr>\n      <th>3350</th>\n      <td>NaN</td>\n      <td>1.106324</td>\n      <td>NaN</td>\n    </tr>\n  </tbody>\n</table>\n<p>3351 rows × 3 columns</p>\n</div>"
     },
     "execution_count": 80,
     "metadata": {},
     "output_type": "execute_result"
    }
   ],
   "source": [
    "gt_x_movement = calculate_movement_along_axis(abs_gt_cameras, Axis.X)\n",
    "gt_x_cum_movement = running_sum(abs(gt_x_movement), 100)\n",
    "\n",
    "pnp_x_err_rel = calculate_distance_along_axis(rel_pnp_cameras, rel_gt_cameras, Axis.X)\n",
    "pnp_x_cum_err_rel = running_sum(abs(pnp_x_err_rel), 100)\n",
    "\n",
    "df = pd.concat([gt_x_cum_movement, pnp_x_cum_err_rel, 100 * pnp_x_cum_err_rel / gt_x_cum_movement], axis=1)\n",
    "s = df.iloc[:, -1]\n",
    "print(f\"{s.mean():.2f}\\t{s.std():.2f}\\t{s.median():.2f}\\t{s.min():.2f}\\t{s.max():.2f}\")\n",
    "df"
   ],
   "metadata": {
    "collapsed": false,
    "pycharm": {
     "name": "#%%\n"
    }
   }
  },
  {
   "cell_type": "code",
   "execution_count": 79,
   "outputs": [
    {
     "name": "stdout",
     "output_type": "stream",
     "text": [
      "2.81\t0.49\t2.79\t1.69\t4.50\n"
     ]
    },
    {
     "data": {
      "text/plain": "                   X           X             X          X         X\nFrameIdx                                                           \n0         252.183951  248.692582   -654.244956   8.464369  3.356427\n1         252.808865  249.328753   -654.547538   8.478469  3.353707\n2         253.442462  249.975414   -654.861376   8.476422  3.344515\n3         254.091404  250.636748   -655.188278   8.467330  3.332395\n4         254.753124  251.312660   -655.527573   8.465825  3.323149\n...              ...         ...           ...        ...       ...\n2646      427.160801  418.544523 -18346.099628  11.671512  2.732346\n2647      427.880876  419.172898 -18330.183740  11.613412  2.714170\n2648      428.590967  419.759495 -18314.288103  11.524104  2.688835\n2649      429.280320  420.291120 -18298.452840  11.402564  2.656205\n2650             NaN         NaN -18282.702737  11.252150       NaN\n\n[2651 rows x 5 columns]",
      "text/html": "<div>\n<style scoped>\n    .dataframe tbody tr th:only-of-type {\n        vertical-align: middle;\n    }\n\n    .dataframe tbody tr th {\n        vertical-align: top;\n    }\n\n    .dataframe thead th {\n        text-align: right;\n    }\n</style>\n<table border=\"1\" class=\"dataframe\">\n  <thead>\n    <tr style=\"text-align: right;\">\n      <th></th>\n      <th>X</th>\n      <th>X</th>\n      <th>X</th>\n      <th>X</th>\n      <th>X</th>\n    </tr>\n    <tr>\n      <th>FrameIdx</th>\n      <th></th>\n      <th></th>\n      <th></th>\n      <th></th>\n      <th></th>\n    </tr>\n  </thead>\n  <tbody>\n    <tr>\n      <th>0</th>\n      <td>252.183951</td>\n      <td>248.692582</td>\n      <td>-654.244956</td>\n      <td>8.464369</td>\n      <td>3.356427</td>\n    </tr>\n    <tr>\n      <th>1</th>\n      <td>252.808865</td>\n      <td>249.328753</td>\n      <td>-654.547538</td>\n      <td>8.478469</td>\n      <td>3.353707</td>\n    </tr>\n    <tr>\n      <th>2</th>\n      <td>253.442462</td>\n      <td>249.975414</td>\n      <td>-654.861376</td>\n      <td>8.476422</td>\n      <td>3.344515</td>\n    </tr>\n    <tr>\n      <th>3</th>\n      <td>254.091404</td>\n      <td>250.636748</td>\n      <td>-655.188278</td>\n      <td>8.467330</td>\n      <td>3.332395</td>\n    </tr>\n    <tr>\n      <th>4</th>\n      <td>254.753124</td>\n      <td>251.312660</td>\n      <td>-655.527573</td>\n      <td>8.465825</td>\n      <td>3.323149</td>\n    </tr>\n    <tr>\n      <th>...</th>\n      <td>...</td>\n      <td>...</td>\n      <td>...</td>\n      <td>...</td>\n      <td>...</td>\n    </tr>\n    <tr>\n      <th>2646</th>\n      <td>427.160801</td>\n      <td>418.544523</td>\n      <td>-18346.099628</td>\n      <td>11.671512</td>\n      <td>2.732346</td>\n    </tr>\n    <tr>\n      <th>2647</th>\n      <td>427.880876</td>\n      <td>419.172898</td>\n      <td>-18330.183740</td>\n      <td>11.613412</td>\n      <td>2.714170</td>\n    </tr>\n    <tr>\n      <th>2648</th>\n      <td>428.590967</td>\n      <td>419.759495</td>\n      <td>-18314.288103</td>\n      <td>11.524104</td>\n      <td>2.688835</td>\n    </tr>\n    <tr>\n      <th>2649</th>\n      <td>429.280320</td>\n      <td>420.291120</td>\n      <td>-18298.452840</td>\n      <td>11.402564</td>\n      <td>2.656205</td>\n    </tr>\n    <tr>\n      <th>2650</th>\n      <td>NaN</td>\n      <td>NaN</td>\n      <td>-18282.702737</td>\n      <td>11.252150</td>\n      <td>NaN</td>\n    </tr>\n  </tbody>\n</table>\n<p>2651 rows × 5 columns</p>\n</div>"
     },
     "execution_count": 79,
     "metadata": {},
     "output_type": "execute_result"
    }
   ],
   "source": [
    "gt_x_movement = calculate_movement_along_axis(abs_gt_cameras, Axis.X)\n",
    "gt_x_cum_movement = running_sum(abs(gt_x_movement), 800)\n",
    "\n",
    "pnp_x_movement = calculate_movement_along_axis(abs_pnp_cameras, Axis.X)\n",
    "pnp_x_cum_movement = running_sum(abs(pnp_x_movement), 800)\n",
    "\n",
    "pnp_x_err = calculate_distance_along_axis(abs_pnp_cameras, abs_gt_cameras, Axis.X)\n",
    "pnp_x_cum_err = running_sum(pnp_x_err, 800)\n",
    "\n",
    "pnp_x_err_rel = calculate_distance_along_axis(rel_pnp_cameras, rel_gt_cameras, Axis.X)\n",
    "pnp_x_cum_err_rel = running_sum(abs(pnp_x_err_rel), 800)\n",
    "\n",
    "df = pd.concat([gt_x_cum_movement, pnp_x_cum_movement, pnp_x_cum_err, pnp_x_cum_err_rel, 100 * pnp_x_cum_err_rel / gt_x_cum_movement], axis=1)\n",
    "s = df.iloc[:, -1]\n",
    "print(f\"{s.mean():.2f}\\t{s.std():.2f}\\t{s.median():.2f}\\t{s.min():.2f}\\t{s.max():.2f}\")\n",
    "df"
   ],
   "metadata": {
    "collapsed": false,
    "pycharm": {
     "name": "#%%\n"
    }
   }
  },
  {
   "cell_type": "code",
   "execution_count": null,
   "outputs": [],
   "source": [],
   "metadata": {
    "collapsed": false,
    "pycharm": {
     "name": "#%%\n"
    }
   }
  },
  {
   "cell_type": "code",
   "execution_count": null,
   "outputs": [],
   "source": [],
   "metadata": {
    "collapsed": false,
    "pycharm": {
     "name": "#%%\n"
    }
   }
  },
  {
   "cell_type": "code",
   "execution_count": null,
   "outputs": [],
   "source": [],
   "metadata": {
    "collapsed": false,
    "pycharm": {
     "name": "#%%\n"
    }
   }
  },
  {
   "cell_type": "code",
   "execution_count": 60,
   "outputs": [
    {
     "name": "stdout",
     "output_type": "stream",
     "text": [
      "0.014581630839319648\n",
      "0.019898302323314104\n",
      "0.019012318085786815\n",
      "0.014862535978745844\n"
     ]
    },
    {
     "data": {
      "text/plain": "0.06835478722716641"
     },
     "execution_count": 60,
     "metadata": {},
     "output_type": "execute_result"
    }
   ],
   "source": [
    "\n",
    "dists = []\n",
    "prev_cam = abs_gt_cameras[0]\n",
    "for i in range(1, len(abs_gt_cameras)):\n",
    "    curr_cam = abs_gt_cameras[i]\n",
    "    cx, cy, cz = curr_cam.calculate_coordinates()\n",
    "    px, py, pz = prev_cam.calculate_coordinates()\n",
    "    abs_diff = abs(cx - px)\n",
    "    dists.append(abs_diff)\n",
    "    prev_cam = curr_cam\n",
    "    print(abs_diff)\n",
    "    if i==4:\n",
    "        break\n",
    "\n",
    "sum(dists[:800])"
   ],
   "metadata": {
    "collapsed": false,
    "pycharm": {
     "name": "#%%\n"
    }
   }
  },
  {
   "cell_type": "code",
   "execution_count": 58,
   "outputs": [
    {
     "name": "stdout",
     "output_type": "stream",
     "text": [
      "0.014581630839319555\n",
      "0.019030441557441602\n",
      "0.017818756201358962\n",
      "0.012930434604152732\n"
     ]
    },
    {
     "data": {
      "text/plain": "0.06436126320227285"
     },
     "execution_count": 58,
     "metadata": {},
     "output_type": "execute_result"
    }
   ],
   "source": [
    "dists = []\n",
    "errs = []\n",
    "prev_cam_gt = rel_gt_cameras[0]\n",
    "for i in range(1, len(rel_gt_cameras)):\n",
    "    curr_cam_gt = rel_gt_cameras[i]\n",
    "    cx, cy, cz = curr_cam_gt.calculate_coordinates()\n",
    "    dists.append(abs(cx))\n",
    "    print(abs(cx))\n",
    "    if i == 4:\n",
    "        break\n",
    "\n",
    "sum(dists[:800])"
   ],
   "metadata": {
    "collapsed": false,
    "pycharm": {
     "name": "#%%\n"
    }
   }
  },
  {
   "cell_type": "code",
   "execution_count": 62,
   "outputs": [
    {
     "name": "stdout",
     "output_type": "stream",
     "text": [
      "[-0.01458163 -0.01903044 -0.01781876 -0.01293043]\n"
     ]
    }
   ],
   "source": [
    "t = Trajectory.from_absolute_cameras(rel_gt_cameras)\n",
    "print(t.coordinates[0][1:5])"
   ],
   "metadata": {
    "collapsed": false,
    "pycharm": {
     "name": "#%%\n"
    }
   }
  },
  {
   "cell_type": "code",
   "execution_count": 64,
   "outputs": [
    {
     "name": "stdout",
     "output_type": "stream",
     "text": [
      "[-0.01458163 -0.0198983  -0.01901232 -0.01486254 -0.01280119]\n"
     ]
    }
   ],
   "source": [
    "t2 = Trajectory.from_absolute_cameras(abs_gt_cameras)\n",
    "diff = np.diff(t2.coordinates, 1)\n",
    "print(diff[0][:5])"
   ],
   "metadata": {
    "collapsed": false,
    "pycharm": {
     "name": "#%%\n"
    }
   }
  }
 ],
 "metadata": {
  "kernelspec": {
   "display_name": "Python 3",
   "language": "python",
   "name": "python3"
  },
  "language_info": {
   "codemirror_mode": {
    "name": "ipython",
    "version": 2
   },
   "file_extension": ".py",
   "mimetype": "text/x-python",
   "name": "python",
   "nbconvert_exporter": "python",
   "pygments_lexer": "ipython2",
   "version": "2.7.6"
  }
 },
 "nbformat": 4,
 "nbformat_minor": 0
}