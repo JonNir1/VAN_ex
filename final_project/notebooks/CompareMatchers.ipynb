{
 "cells": [
  {
   "cell_type": "code",
   "execution_count": 2,
   "metadata": {
    "collapsed": true
   },
   "outputs": [],
   "source": [
    "import os\n",
    "import time\n",
    "import cv2\n",
    "import numpy as np\n",
    "import pandas as pd\n",
    "from matplotlib import pyplot as plt\n",
    "\n",
    "import final_project.config as c\n",
    "from final_project.models.Frame import Frame\n",
    "from final_project.models.Matcher import Matcher, DEFAULT_MATCHER"
   ]
  },
  {
   "cell_type": "code",
   "execution_count": 21,
   "outputs": [],
   "source": [
    "\n",
    "def measure_inliers_within_frame(n: int, m: Matcher, verbose=False):\n",
    "    assert 0 < n <= c.NUM_FRAMES\n",
    "    start = time.time()\n",
    "\n",
    "    match_count = np.zeros(n)\n",
    "    feature_count = np.zeros(n)\n",
    "    for i in range(n):\n",
    "        img_l, img_r = c.read_images(i)\n",
    "        kps_l, descs_l = m._detector.detectAndCompute(img_l, None)\n",
    "        kps_r, descs_r = m._detector.detectAndCompute(img_r, None)\n",
    "        all_matches = m.match_descriptors(descs_l, descs_r)\n",
    "        features, descriptors = m._find_frame_inliers(kps_l, kps_r, descs_l, all_matches)\n",
    "        match_count[i] = len(all_matches)\n",
    "        feature_count[i] = len(features)\n",
    "        if i%200==0 and verbose:\n",
    "            elapsed = time.time() - start\n",
    "            print(f\"\\tFinished {i} Frames in {elapsed:.2f} seconds\")\n",
    "\n",
    "    elapsed = time.time() - start\n",
    "    return match_count, feature_count, elapsed\n"
   ],
   "metadata": {
    "collapsed": false,
    "pycharm": {
     "name": "#%%\n"
    }
   }
  },
  {
   "cell_type": "code",
   "execution_count": null,
   "outputs": [
    {
     "name": "stdout",
     "output_type": "stream",
     "text": [
      "\tFinished 0 Frames in 0.70 seconds\n",
      "\tFinished 200 Frames in 112.88 seconds\n",
      "\tFinished 400 Frames in 174.83 seconds\n",
      "\tFinished 600 Frames in 267.90 seconds\n",
      "\tFinished 800 Frames in 387.20 seconds\n",
      "\tFinished 1000 Frames in 549.47 seconds\n",
      "\tFinished 1200 Frames in 699.52 seconds\n",
      "\tFinished 1400 Frames in 783.75 seconds\n",
      "\tFinished 1600 Frames in 891.62 seconds\n",
      "\tFinished 1800 Frames in 1003.82 seconds\n",
      "\tFinished 2000 Frames in 1173.83 seconds\n",
      "\tFinished 2200 Frames in 1313.21 seconds\n",
      "\tFinished 2400 Frames in 1504.52 seconds\n",
      "\tFinished 2600 Frames in 1573.29 seconds\n",
      "\tFinished 2800 Frames in 1684.91 seconds\n",
      "\tFinished 3000 Frames in 1816.48 seconds\n",
      "\tFinished 3200 Frames in 1917.50 seconds\n",
      "\tFinished 3400 Frames in 2038.63 seconds\n",
      "Finished m0 in 34.40 minutes\n",
      "\tFinished 0 Frames in 0.04 seconds\n",
      "\tFinished 200 Frames in 6.44 seconds\n",
      "\tFinished 400 Frames in 11.59 seconds\n",
      "\tFinished 600 Frames in 18.03 seconds\n",
      "\tFinished 800 Frames in 25.01 seconds\n",
      "\tFinished 1000 Frames in 31.95 seconds\n",
      "\tFinished 1200 Frames in 38.81 seconds\n",
      "\tFinished 1400 Frames in 45.03 seconds\n",
      "\tFinished 1600 Frames in 51.61 seconds\n",
      "\tFinished 1800 Frames in 58.17 seconds\n",
      "\tFinished 2000 Frames in 65.19 seconds\n",
      "\tFinished 2200 Frames in 71.99 seconds\n",
      "\tFinished 2400 Frames in 78.92 seconds\n",
      "\tFinished 2600 Frames in 84.92 seconds\n",
      "\tFinished 2800 Frames in 91.57 seconds\n",
      "\tFinished 3000 Frames in 98.29 seconds\n",
      "\tFinished 3200 Frames in 104.71 seconds\n",
      "\tFinished 3400 Frames in 111.05 seconds\n",
      "Finished m1 in 1.88 minutes\n",
      "\tFinished 0 Frames in 0.21 seconds\n",
      "\tFinished 200 Frames in 58.34 seconds\n",
      "\tFinished 400 Frames in 106.28 seconds\n",
      "\tFinished 600 Frames in 161.90 seconds\n",
      "\tFinished 800 Frames in 221.25 seconds\n",
      "\tFinished 1000 Frames in 285.07 seconds\n",
      "\tFinished 1200 Frames in 340.19 seconds\n",
      "\tFinished 1400 Frames in 392.42 seconds\n",
      "\tFinished 1600 Frames in 452.60 seconds\n",
      "\tFinished 1800 Frames in 498.94 seconds\n",
      "\tFinished 2000 Frames in 557.86 seconds\n",
      "\tFinished 2200 Frames in 612.79 seconds\n"
     ]
    }
   ],
   "source": [
    "N = c.NUM_FRAMES\n",
    "\n",
    "# default values\n",
    "m0 = Matcher(detector_type=c.DEFAULT_DETECTOR_NAME, matcher_type=c.DEFAULT_MATCHER_NAME, use_crosscheck=c.SHOULD_CROSS_CHECK, use_2nn=c.SHOULD_USE_2NN)\n",
    "match_count0, feature_count0, elapsed0 = measure_inliers_within_frame(N, m0, verbose=True)\n",
    "print(f\"Finished m0 in {(elapsed0/60):.2f} minutes\")\n",
    "\n",
    "# expected to be the fastest\n",
    "m1 = Matcher(detector_type=\"orb\", matcher_type=\"bf\", use_crosscheck=False, use_2nn=False)\n",
    "match_count1, feature_count1, elapsed1 = measure_inliers_within_frame(N, m1, verbose=True)\n",
    "print(f\"Finished m1 in {(elapsed1/60):.2f} minutes\")\n",
    "\n",
    "# expected to be slow\n",
    "m2 = Matcher(detector_type=\"sift\", matcher_type=\"bf\", use_crosscheck=False, use_2nn=True)\n",
    "match_count2, feature_count2, elapsed2 = measure_inliers_within_frame(N, m2, verbose=True)\n",
    "print(f\"Finished m2 in {(elapsed2/60):.2f} minutes\")\n",
    "\n",
    "# expected to be slow\n",
    "m3 = Matcher(detector_type=\"sift\", matcher_type=\"bf\", use_crosscheck=True, use_2nn=False)\n",
    "match_count3, feature_count3, elapsed3 = measure_inliers_within_frame(N, m2, verbose=True)\n",
    "print(f\"Finished m3 in {(elapsed2/60):.2f} minutes\")\n",
    "\n",
    "# expected to be slow\n",
    "m4 = Matcher(detector_type=\"sift\", matcher_type=\"flann\", use_crosscheck=False, use_2nn=False)\n",
    "match_count4, feature_count4, elapsed4 = measure_inliers_within_frame(N, m2, verbose=True)\n",
    "print(f\"Finished m4 in {(elapsed2/60):.2f} minutes\")"
   ],
   "metadata": {
    "collapsed": false,
    "pycharm": {
     "name": "#%%\n",
     "is_executing": true
    }
   }
  },
  {
   "cell_type": "code",
   "execution_count": null,
   "outputs": [],
   "source": [
    "frame_ids = [i+1 for i in range(c.NUM_FRAMES)]\n",
    "colorblind_friendly = [\"#762a83\", \"#de77ae\", \"gold\", \"cyan\", \"#1b7837\"]\n",
    "\n",
    "plt.clf()\n",
    "fig, axes = plt.subplots(nrows=2, ncols=2, figsize=(6, 4))\n",
    "gs = axes[0, 1].get_gridspec()  # see tutorial: https://matplotlib.org/stable/gallery/subplots_axes_and_figures/gridspec_and_subplots.html\n",
    "for ax in axes[:, 1]:\n",
    "    ax.remove()\n",
    "ax_big = fig.add_subplot(gs[:, 1])\n",
    "# fig.tight_layout()\n",
    "\n",
    "axes[0].set_title(\"Runtime\")\n",
    "axes[0].bar(x=[i for i in range(1,6)], height=[elapsed0, elapsed1, elapsed2, elapsed3, elapsed4],\n",
    "            linewidth=0, colors=colorblind_friendly, tick_label=[[f\"M{i}\" for i in range(1, 6)]])\n",
    "\n",
    "axes[0, 0].set_title(\"# Inliers\")\n",
    "axes[0, 0].plot(frame_ids, feature_count0, linewidth=1, c=colorblind_friendly[0], label=\"M1\")\n",
    "axes[0, 0].plot(frame_ids, feature_count1, linewidth=1, c=colorblind_friendly[1], label=\"M2\")\n",
    "axes[0, 0].plot(frame_ids, feature_count2, linewidth=1, c=colorblind_friendly[2], label=\"M3\")\n",
    "axes[0, 0].plot(frame_ids, feature_count3, linewidth=1, c=colorblind_friendly[3], label=\"M4\")\n",
    "axes[0, 0].plot(frame_ids, feature_count4, linewidth=1, c=colorblind_friendly[4], label=\"M5\")\n",
    "axes[0, 0].set_xlabel(\"Frame ID\")\n",
    "\n",
    "axes[1, 0].set_title(\"% Inliers\")\n",
    "axes[1, 0].plot(frame_ids, 100 * np.divide(feature_count0, match_count0), linewidth=1, c=colorblind_friendly[0], label=\"M1\")\n",
    "axes[1, 0].plot(frame_ids, 100 * np.divide(feature_count1, match_count1), linewidth=1, c=colorblind_friendly[1], label=\"M2\")\n",
    "axes[1, 0].plot(frame_ids, 100 * np.divide(feature_count2, match_count2), linewidth=1, c=colorblind_friendly[2], label=\"M3\")\n",
    "axes[1, 0].plot(frame_ids, 100 * np.divide(feature_count3, match_count3), linewidth=1, c=colorblind_friendly[3], label=\"M4\")\n",
    "axes[1, 0].plot(frame_ids, 100 * np.divide(feature_count4, match_count4), linewidth=1, c=colorblind_friendly[4], label=\"M5\")\n",
    "axes[1, 0].set_xlabel(\"Frame ID\")\n",
    "\n",
    "plt.show()"
   ],
   "metadata": {
    "collapsed": false,
    "pycharm": {
     "name": "#%%\n"
    }
   }
  },
  {
   "cell_type": "code",
   "execution_count": null,
   "outputs": [],
   "source": [],
   "metadata": {
    "collapsed": false,
    "pycharm": {
     "name": "#%%\n"
    }
   }
  },
  {
   "cell_type": "code",
   "execution_count": null,
   "outputs": [],
   "source": [],
   "metadata": {
    "collapsed": false,
    "pycharm": {
     "name": "#%%\n"
    }
   }
  },
  {
   "cell_type": "code",
   "execution_count": null,
   "outputs": [],
   "source": [],
   "metadata": {
    "collapsed": false,
    "pycharm": {
     "name": "#%%\n"
    }
   }
  },
  {
   "cell_type": "code",
   "execution_count": 19,
   "outputs": [],
   "source": [
    "orb = cv2.ORB_create()\n",
    "sift = cv2.SIFT_create()\n",
    "\n",
    "def detect(detector, img_l, img_r):\n",
    "    start = time.time()\n",
    "    kps_l, descs_l = detector.detectAndCompute(img_l, None)\n",
    "    kps_r, descs_r = detector.detectAndCompute(img_r, None)\n",
    "    elapsed = time.time()\n",
    "    return kps_l, descs_l, kps_r, descs_r, elapsed\n",
    "\n",
    "orb_results = []\n",
    "sift_results = []\n",
    "for i in range(c.NUM_FRAMES):\n",
    "    img_l, img_r = c.read_images(i)\n",
    "    orb_results.append(detect(orb, img_l, img_r))\n",
    "    sift\n",
    "    orb_kps_l, orb_descs_l, orb_kps_r, orb_descs_r, orb_elapsed = detect(orb)\n",
    "    sift_kps_l, sift_descs_l, sift_kps_r, sift_descs_r, sift_elapsed = detect(sift)"
   ],
   "metadata": {
    "collapsed": false,
    "pycharm": {
     "name": "#%%\n"
    }
   }
  },
  {
   "cell_type": "code",
   "execution_count": 19,
   "outputs": [],
   "source": [],
   "metadata": {
    "collapsed": false,
    "pycharm": {
     "name": "#%%\n"
    }
   }
  }
 ],
 "metadata": {
  "kernelspec": {
   "display_name": "Python 3",
   "language": "python",
   "name": "python3"
  },
  "language_info": {
   "codemirror_mode": {
    "name": "ipython",
    "version": 2
   },
   "file_extension": ".py",
   "mimetype": "text/x-python",
   "name": "python",
   "nbconvert_exporter": "python",
   "pygments_lexer": "ipython2",
   "version": "2.7.6"
  }
 },
 "nbformat": 4,
 "nbformat_minor": 0
}