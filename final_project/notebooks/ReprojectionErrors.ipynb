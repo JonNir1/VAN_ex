{
 "cells": [
  {
   "cell_type": "code",
   "execution_count": 23,
   "metadata": {
    "collapsed": true
   },
   "outputs": [],
   "source": [
    "import os\n",
    "import time\n",
    "import numpy as np\n",
    "import pandas as pd\n",
    "from matplotlib import pyplot as plt\n",
    "\n",
    "import final_project.config as c\n",
    "from final_project.logic.Utils import convert_to_absolute_cameras\n",
    "from final_project.logic.Projection import project\n",
    "from final_project.logic.Triangulation import triangulate\n",
    "\n",
    "COLORS = [\"#762a83\", \"#de77ae\", \"gold\", \"cyan\", \"#1b7837\"]\n",
    "POPULATION, SAMPLE = \"Population\", \"Sample\""
   ]
  },
  {
   "cell_type": "code",
   "execution_count": 2,
   "outputs": [],
   "source": [
    "SEED = 2022\n",
    "\n",
    "\n",
    "def sample_representatives(tracks: pd.DataFrame, size: int):\n",
    "    track_lengths = tracks.groupby(level=c.TrackIdx).size()\n",
    "    length_frequencies = track_lengths.value_counts(normalize=True)\n",
    "    unique_values = track_lengths.unique()\n",
    "\n",
    "    rng = np.random.default_rng(SEED)  # see https://numpy.org/doc/stable/reference/random/index.html#random-quick-start\n",
    "    sample_idxs = np.array([])\n",
    "    for v in unique_values:\n",
    "        track_idxs = track_lengths[track_lengths == v].index.to_numpy()\n",
    "        sample_size = round(length_frequencies[v] * size)\n",
    "        if sample_size == 0:\n",
    "            sample_size = 1  # make sure we have at least one of each\n",
    "        chosen_idxs = rng.choice(track_idxs, size=sample_size, replace=False)\n",
    "        sample_idxs = np.append(sample_idxs, chosen_idxs)\n",
    "    return pd.concat([tracks.xs(track_id, level=c.TrackIdx, drop_level=False) for track_id in sample_idxs], axis=0)"
   ],
   "metadata": {
    "collapsed": false,
    "pycharm": {
     "name": "#%%\n"
    }
   }
  },
  {
   "cell_type": "code",
   "execution_count": 12,
   "outputs": [
    {
     "name": "stdout",
     "output_type": "stream",
     "text": [
      "\t\tPopulation\t\t\tSample\n",
      "Size:\t153295\t\t\t\t15342\n",
      "Mean:\t0.0192\t\t\t\t0.0192\n",
      "std:\t0.0629\t\t\t\t0.0628\n",
      "Min:\t0.0000\t\t\t\t0.0001\n",
      "Max:\t0.3795\t\t\t\t0.3792\n",
      "Median:\t0.0002\t\t\t\t0.0002\n"
     ]
    },
    {
     "data": {
      "text/plain": "             Population    Sample\nTrackLength                      \n4              0.379497  0.379220\n5              0.215917  0.215748\n6              0.131668  0.131534\n7              0.084334  0.084278\n8              0.054118  0.054100\n9              0.037307  0.037283\n10             0.025591  0.025551\n11             0.018435  0.018446\n12             0.012982  0.012971\n13             0.009863  0.009842\n14             0.007261  0.007235\n15             0.005238  0.005214\n16             0.003718  0.003715\n17             0.002883  0.002868\n18             0.002342  0.002346\n19             0.001735  0.001760\n20             0.001553  0.001564\n21             0.000972  0.000978\n22             0.000776  0.000782\n23             0.000639  0.000652\n24             0.000450  0.000456\n25             0.000404  0.000391\n26             0.000365  0.000391\n27             0.000281  0.000261\n28             0.000300  0.000326\n29             0.000209  0.000196\n30             0.000157  0.000130\n31             0.000150  0.000130\n32             0.000091  0.000065\n33             0.000111  0.000130\n34             0.000078  0.000065\n35             0.000091  0.000065\n36             0.000065  0.000065\n37             0.000052  0.000065\n38             0.000065  0.000065\n39             0.000033  0.000065\n40             0.000013  0.000065\n41             0.000059  0.000065\n42             0.000039  0.000065\n43             0.000013  0.000065\n44             0.000007  0.000065\n45             0.000039  0.000065\n46             0.000020  0.000065\n47             0.000007  0.000065\n48             0.000013  0.000065\n49             0.000013  0.000065\n50             0.000013  0.000065\n51             0.000007  0.000065\n52             0.000007  0.000065\n55             0.000007  0.000065\n64             0.000007  0.000065\n65             0.000007  0.000065",
      "text/html": "<div>\n<style scoped>\n    .dataframe tbody tr th:only-of-type {\n        vertical-align: middle;\n    }\n\n    .dataframe tbody tr th {\n        vertical-align: top;\n    }\n\n    .dataframe thead th {\n        text-align: right;\n    }\n</style>\n<table border=\"1\" class=\"dataframe\">\n  <thead>\n    <tr style=\"text-align: right;\">\n      <th></th>\n      <th>Population</th>\n      <th>Sample</th>\n    </tr>\n    <tr>\n      <th>TrackLength</th>\n      <th></th>\n      <th></th>\n    </tr>\n  </thead>\n  <tbody>\n    <tr>\n      <th>4</th>\n      <td>0.379497</td>\n      <td>0.379220</td>\n    </tr>\n    <tr>\n      <th>5</th>\n      <td>0.215917</td>\n      <td>0.215748</td>\n    </tr>\n    <tr>\n      <th>6</th>\n      <td>0.131668</td>\n      <td>0.131534</td>\n    </tr>\n    <tr>\n      <th>7</th>\n      <td>0.084334</td>\n      <td>0.084278</td>\n    </tr>\n    <tr>\n      <th>8</th>\n      <td>0.054118</td>\n      <td>0.054100</td>\n    </tr>\n    <tr>\n      <th>9</th>\n      <td>0.037307</td>\n      <td>0.037283</td>\n    </tr>\n    <tr>\n      <th>10</th>\n      <td>0.025591</td>\n      <td>0.025551</td>\n    </tr>\n    <tr>\n      <th>11</th>\n      <td>0.018435</td>\n      <td>0.018446</td>\n    </tr>\n    <tr>\n      <th>12</th>\n      <td>0.012982</td>\n      <td>0.012971</td>\n    </tr>\n    <tr>\n      <th>13</th>\n      <td>0.009863</td>\n      <td>0.009842</td>\n    </tr>\n    <tr>\n      <th>14</th>\n      <td>0.007261</td>\n      <td>0.007235</td>\n    </tr>\n    <tr>\n      <th>15</th>\n      <td>0.005238</td>\n      <td>0.005214</td>\n    </tr>\n    <tr>\n      <th>16</th>\n      <td>0.003718</td>\n      <td>0.003715</td>\n    </tr>\n    <tr>\n      <th>17</th>\n      <td>0.002883</td>\n      <td>0.002868</td>\n    </tr>\n    <tr>\n      <th>18</th>\n      <td>0.002342</td>\n      <td>0.002346</td>\n    </tr>\n    <tr>\n      <th>19</th>\n      <td>0.001735</td>\n      <td>0.001760</td>\n    </tr>\n    <tr>\n      <th>20</th>\n      <td>0.001553</td>\n      <td>0.001564</td>\n    </tr>\n    <tr>\n      <th>21</th>\n      <td>0.000972</td>\n      <td>0.000978</td>\n    </tr>\n    <tr>\n      <th>22</th>\n      <td>0.000776</td>\n      <td>0.000782</td>\n    </tr>\n    <tr>\n      <th>23</th>\n      <td>0.000639</td>\n      <td>0.000652</td>\n    </tr>\n    <tr>\n      <th>24</th>\n      <td>0.000450</td>\n      <td>0.000456</td>\n    </tr>\n    <tr>\n      <th>25</th>\n      <td>0.000404</td>\n      <td>0.000391</td>\n    </tr>\n    <tr>\n      <th>26</th>\n      <td>0.000365</td>\n      <td>0.000391</td>\n    </tr>\n    <tr>\n      <th>27</th>\n      <td>0.000281</td>\n      <td>0.000261</td>\n    </tr>\n    <tr>\n      <th>28</th>\n      <td>0.000300</td>\n      <td>0.000326</td>\n    </tr>\n    <tr>\n      <th>29</th>\n      <td>0.000209</td>\n      <td>0.000196</td>\n    </tr>\n    <tr>\n      <th>30</th>\n      <td>0.000157</td>\n      <td>0.000130</td>\n    </tr>\n    <tr>\n      <th>31</th>\n      <td>0.000150</td>\n      <td>0.000130</td>\n    </tr>\n    <tr>\n      <th>32</th>\n      <td>0.000091</td>\n      <td>0.000065</td>\n    </tr>\n    <tr>\n      <th>33</th>\n      <td>0.000111</td>\n      <td>0.000130</td>\n    </tr>\n    <tr>\n      <th>34</th>\n      <td>0.000078</td>\n      <td>0.000065</td>\n    </tr>\n    <tr>\n      <th>35</th>\n      <td>0.000091</td>\n      <td>0.000065</td>\n    </tr>\n    <tr>\n      <th>36</th>\n      <td>0.000065</td>\n      <td>0.000065</td>\n    </tr>\n    <tr>\n      <th>37</th>\n      <td>0.000052</td>\n      <td>0.000065</td>\n    </tr>\n    <tr>\n      <th>38</th>\n      <td>0.000065</td>\n      <td>0.000065</td>\n    </tr>\n    <tr>\n      <th>39</th>\n      <td>0.000033</td>\n      <td>0.000065</td>\n    </tr>\n    <tr>\n      <th>40</th>\n      <td>0.000013</td>\n      <td>0.000065</td>\n    </tr>\n    <tr>\n      <th>41</th>\n      <td>0.000059</td>\n      <td>0.000065</td>\n    </tr>\n    <tr>\n      <th>42</th>\n      <td>0.000039</td>\n      <td>0.000065</td>\n    </tr>\n    <tr>\n      <th>43</th>\n      <td>0.000013</td>\n      <td>0.000065</td>\n    </tr>\n    <tr>\n      <th>44</th>\n      <td>0.000007</td>\n      <td>0.000065</td>\n    </tr>\n    <tr>\n      <th>45</th>\n      <td>0.000039</td>\n      <td>0.000065</td>\n    </tr>\n    <tr>\n      <th>46</th>\n      <td>0.000020</td>\n      <td>0.000065</td>\n    </tr>\n    <tr>\n      <th>47</th>\n      <td>0.000007</td>\n      <td>0.000065</td>\n    </tr>\n    <tr>\n      <th>48</th>\n      <td>0.000013</td>\n      <td>0.000065</td>\n    </tr>\n    <tr>\n      <th>49</th>\n      <td>0.000013</td>\n      <td>0.000065</td>\n    </tr>\n    <tr>\n      <th>50</th>\n      <td>0.000013</td>\n      <td>0.000065</td>\n    </tr>\n    <tr>\n      <th>51</th>\n      <td>0.000007</td>\n      <td>0.000065</td>\n    </tr>\n    <tr>\n      <th>52</th>\n      <td>0.000007</td>\n      <td>0.000065</td>\n    </tr>\n    <tr>\n      <th>55</th>\n      <td>0.000007</td>\n      <td>0.000065</td>\n    </tr>\n    <tr>\n      <th>64</th>\n      <td>0.000007</td>\n      <td>0.000065</td>\n    </tr>\n    <tr>\n      <th>65</th>\n      <td>0.000007</td>\n      <td>0.000065</td>\n    </tr>\n  </tbody>\n</table>\n</div>"
     },
     "execution_count": 12,
     "metadata": {},
     "output_type": "execute_result"
    }
   ],
   "source": [
    "all_tracks = pd.read_pickle(os.path.join(c.DATA_WRITE_PATH, \"tracks.pkl\"))\n",
    "all_lengths = all_tracks.groupby(level=c.TrackIdx).size()\n",
    "all_length_freqs = all_lengths.value_counts(normalize=True)\n",
    "\n",
    "sample_tracks = sample_representatives(all_tracks, int(15.33 * 1e3))\n",
    "sample_lengths = sample_tracks.groupby(level=c.TrackIdx).size()\n",
    "sample_length_freqs = sample_lengths.value_counts(normalize=True)\n",
    "\n",
    "counts_df = pd.concat([all_lengths.value_counts(), sample_lengths.value_counts()], axis=1).sort_index()\n",
    "counts_df.columns = [POPULATION, SAMPLE]\n",
    "counts_df.index.name = \"TrackLength\"\n",
    "\n",
    "freq_df = pd.concat([all_length_freqs, sample_length_freqs], axis=1).sort_index()\n",
    "freq_df.columns = [POPULATION, SAMPLE]\n",
    "freq_df.index.name = \"TrackLength\"\n",
    "\n",
    "print(f\"\\t\\t{POPULATION}\\t\\t\\t{SAMPLE}\")\n",
    "print(f\"Size:\\t{counts_df.sum().iloc[0]}\\t\\t\\t\\t{counts_df.sum().iloc[1]}\")\n",
    "print(f\"Mean:\\t{freq_df.mean().iloc[0]:.4f}\\t\\t\\t\\t{freq_df.mean().iloc[1]:.4f}\")\n",
    "print(f\"std:\\t{freq_df.std().iloc[0]:.4f}\\t\\t\\t\\t{freq_df.std().iloc[1]:.4f}\")\n",
    "print(f\"Min:\\t{freq_df.min().iloc[0]:.4f}\\t\\t\\t\\t{freq_df.min().iloc[1]:.4f}\")\n",
    "print(f\"Max:\\t{freq_df.max().iloc[0]:.4f}\\t\\t\\t\\t{freq_df.max().iloc[1]:.4f}\")\n",
    "print(f\"Median:\\t{freq_df.median().iloc[0]:.4f}\\t\\t\\t\\t{freq_df.median().iloc[1]:.4f}\")\n",
    "\n",
    "freq_df"
   ],
   "metadata": {
    "collapsed": false,
    "pycharm": {
     "name": "#%%\n"
    }
   }
  },
  {
   "cell_type": "code",
   "execution_count": 58,
   "outputs": [
    {
     "data": {
      "text/plain": "(6.030862063341923,\n 3.0425280170871387,\n 3.4619752588168202,\n 6.064854647373224,\n 3.2850425325664694,\n 4.744553341217079)"
     },
     "execution_count": 58,
     "metadata": {},
     "output_type": "execute_result"
    }
   ],
   "source": [
    "all_lengths.mean(), all_lengths.std(), all_lengths.skew(), sample_lengths.mean(), sample_lengths.std(), sample_lengths.skew()"
   ],
   "metadata": {
    "collapsed": false,
    "pycharm": {
     "name": "#%%\n"
    }
   }
  },
  {
   "cell_type": "code",
   "execution_count": null,
   "outputs": [],
   "source": [],
   "metadata": {
    "collapsed": false,
    "pycharm": {
     "name": "#%%\n"
    }
   }
  },
  {
   "cell_type": "markdown",
   "source": [
    "Figure 8"
   ],
   "metadata": {
    "collapsed": false,
    "pycharm": {
     "name": "#%% md\n"
    }
   }
  },
  {
   "cell_type": "code",
   "execution_count": 13,
   "outputs": [
    {
     "data": {
      "text/plain": "<Figure size 432x288 with 0 Axes>"
     },
     "metadata": {},
     "output_type": "display_data"
    },
    {
     "data": {
      "text/plain": "<Figure size 504x216 with 2 Axes>",
      "image/png": "[encoded data removed]"
     },
     "metadata": {
      "needs_background": "light"
     },
     "output_type": "display_data"
    }
   ],
   "source": [
    "plt.clf()\n",
    "fig, ax = plt.subplots(nrows=1, ncols=2, figsize=(7, 3), sharey=True)\n",
    "fig.tight_layout()\n",
    "\n",
    "ax[0].set_title(\"Population Distribution\")\n",
    "ax[0].bar(x=freq_df.index, height=freq_df[POPULATION], color=COLORS[0], label=POPULATION)\n",
    "ax[0].set_xlabel(\"$length$\")\n",
    "ax[0].set_ylabel(\"$f$\")\n",
    "\n",
    "ax[1].set_title(\"Sample Distribution\")\n",
    "ax[1].bar(x=freq_df.index, height=freq_df[SAMPLE], color=COLORS[2], label=SAMPLE)\n",
    "ax[1].set_xlabel(\"$track length$\")\n",
    "\n",
    "plt.show()"
   ],
   "metadata": {
    "collapsed": false,
    "pycharm": {
     "name": "#%%\n"
    }
   }
  },
  {
   "cell_type": "code",
   "execution_count": null,
   "outputs": [],
   "source": [],
   "metadata": {
    "collapsed": false,
    "pycharm": {
     "name": "#%%\n"
    }
   }
  },
  {
   "cell_type": "code",
   "execution_count": 24,
   "outputs": [],
   "source": [
    "def load_abs_cameras(filename: str) -> pd.Series:\n",
    "    rel_cams = pd.read_pickle(os.path.join(c.DATA_WRITE_PATH, filename + \".pkl\"))\n",
    "    index = rel_cams.index\n",
    "    abs_cams = pd.Series(convert_to_absolute_cameras(rel_cams), index=index, name=\"abs_\" + filename)\n",
    "    return abs_cams\n",
    "\n",
    "\n",
    "def triangulate_landmark(track_data: pd.DataFrame, absolute_cameras: pd.Series):\n",
    "    # triangulate the landmark based on the last camera\n",
    "    last_frame_idx = track_data.index.max()\n",
    "    cam = absolute_cameras[last_frame_idx]\n",
    "    xl, xr, y = track_data.loc[last_frame_idx]\n",
    "    landmark = triangulate(pixels1=np.array([xl, y]).reshape((2, 1)), pixels2=np.array([xr, y]).reshape((2, 1)), left_cam=cam)\n",
    "    landmark = landmark.reshape((3, 1))\n",
    "    return landmark\n",
    "\n",
    "def calculate_pixel_error(cam, landmark, x: float, y: float) -> float:\n",
    "    pixels = project(cam, landmark)[0]\n",
    "    px, py = pixels\n",
    "    return np.sqrt((px - x) ** 2 + (py - y) ** 2)\n",
    "\n",
    "\n",
    "def calculate_reprojection_errors_by_frame(tracks: pd.DataFrame, absolute_cameras: pd.Series, verbose=False):\n",
    "    start = time.time()\n",
    "    if verbose:\n",
    "        print(\"Calculating reprojection errors...\")\n",
    "    max_track_length = tracks.groupby(level=c.TrackIdx).size().max()\n",
    "    left_errs = {d: [] for d in range(max_track_length + 1)}\n",
    "    right_errs = {d: [] for d in range(max_track_length + 1)}\n",
    "\n",
    "    for i, trk_idx in enumerate(tracks.index.unique(level=c.TrackIdx)):\n",
    "        if verbose and i > 0 and i % 1000 == 0:\n",
    "            print(f\"\\tfinished {i} tracks in {(time.time() - start):.2f} seconds\")\n",
    "        track_data = tracks.xs(trk_idx, level=c.TrackIdx)\n",
    "        landmark = triangulate_landmark(track_data, absolute_cameras)\n",
    "\n",
    "        # calculate reprojection error\n",
    "        last_frame_idx = track_data.index.max()\n",
    "        for fr_idx in track_data.index[::-1]:  # take index in descending order\n",
    "            frame_distance = last_frame_idx - fr_idx\n",
    "            xl, xr, y = track_data.loc[fr_idx]\n",
    "            cam_left = absolute_cameras[fr_idx]\n",
    "\n",
    "            left_error = calculate_pixel_error(cam_left, landmark, xl, y)\n",
    "            left_errs[frame_distance].append(left_error)\n",
    "            right_error = calculate_pixel_error(cam_left.get_right_camera(), landmark, xr, y)\n",
    "            right_errs[frame_distance].append(right_error)\n",
    "\n",
    "    left_errs = {k: pd.Series(v, dtype='float64') for k,v in left_errs.items()}\n",
    "    right_errs = {k: pd.Series(v, dtype='float64') for k,v in right_errs.items()}\n",
    "    elapsed = time.time() - start\n",
    "    if verbose:\n",
    "        print(f\"Finished in {elapsed:.2f} seconds\")\n",
    "    return left_errs, right_errs"
   ],
   "metadata": {
    "collapsed": false,
    "pycharm": {
     "name": "#%%\n"
    }
   }
  },
  {
   "cell_type": "code",
   "execution_count": 25,
   "outputs": [],
   "source": [
    "# load and calculate:\n",
    "\n",
    "abs_pnp_cameras = load_abs_cameras(\"pnp_cameras\")\n",
    "pnp_errs_l, pnp_errs_r = calculate_reprojection_errors_by_frame(sample_tracks, abs_pnp_cameras, verbose=False)\n",
    "pnp_median_err_l = pd.Series({k: v.median() for k,v in pnp_errs_l.items()})\n",
    "pnp_median_err_r = pd.Series({k: v.median() for k,v in pnp_errs_r.items()})\n",
    "\n",
    "abs_ba_cameras = load_abs_cameras(\"ba_cameras\")\n",
    "ba_errs_l, ba_errs_r = calculate_reprojection_errors_by_frame(sample_tracks, abs_ba_cameras, verbose=False)\n",
    "ba_median_err_l = pd.Series({k: v.median() for k,v in ba_errs_l.items()})\n",
    "ba_median_err_r = pd.Series({k: v.median() for k,v in ba_errs_r.items()})\n",
    "\n",
    "# abs_pg_cameras = load_abs_cameras(\"pg_cameras\")\n",
    "# pg_errs_l, pg_errs_r = calculate_reprojection_errors_by_frame(sample_tracks, abs_pg_cameras, verbose=False)\n",
    "# pg_median_err_l = pd.Series({k: v.median() for k,v in pg_errs_l.items()})\n",
    "# pg_median_err_r = pd.Series({k: v.median() for k,v in pg_errs_r.items()})"
   ],
   "metadata": {
    "collapsed": false,
    "pycharm": {
     "name": "#%%\n"
    }
   }
  },
  {
   "cell_type": "markdown",
   "source": [
    "Figure 9"
   ],
   "metadata": {
    "collapsed": false,
    "pycharm": {
     "name": "#%% md\n"
    }
   }
  },
  {
   "cell_type": "code",
   "execution_count": 56,
   "outputs": [
    {
     "data": {
      "text/plain": "<Figure size 432x288 with 0 Axes>"
     },
     "metadata": {},
     "output_type": "display_data"
    },
    {
     "data": {
      "text/plain": "<Figure size 648x216 with 2 Axes>",
      "image/png": "[encoded data removed]"
     },
     "metadata": {
      "needs_background": "light"
     },
     "output_type": "display_data"
    }
   ],
   "source": [
    "plt.clf()\n",
    "fig, axes = plt.subplots(nrows=1, ncols=2, sharey=True, sharex=True, figsize=(9, 3))\n",
    "fig.subplots_adjust(top=0.9)\n",
    "fig.suptitle(\"Median Reprojection Errors vs. Distance from Reference Point\", y=1.05, x=0.52)\n",
    "\n",
    "axes[0].set_title(\"Left Camera\")\n",
    "axes[0].plot(pnp_median_err_l.index, pnp_median_err_l, c=COLORS[0], label=\"PnP\")\n",
    "axes[0].plot(ba_median_err_l.index, ba_median_err_l, c=COLORS[2], label=\"BA\")\n",
    "axes[0].set_xlabel(\"Frames from Reference\")\n",
    "axes[0].set_ylabel(\"Pixels\")\n",
    "axes[0].legend()\n",
    "\n",
    "axes[1].set_title(\"Right Camera\")\n",
    "axes[1].plot(pnp_median_err_r.index, pnp_median_err_r, c=COLORS[0], label=\"PnP\")\n",
    "axes[1].plot(ba_median_err_r.index, ba_median_err_r, c=COLORS[2], label=\"BA\")\n",
    "axes[1].set_xlabel(\"Frames from Reference\")\n",
    "\n",
    "plt.show()"
   ],
   "metadata": {
    "collapsed": false,
    "pycharm": {
     "name": "#%%\n"
    }
   }
  },
  {
   "cell_type": "code",
   "execution_count": 21,
   "outputs": [],
   "source": [],
   "metadata": {
    "collapsed": false,
    "pycharm": {
     "name": "#%%\n"
    }
   }
  },
  {
   "cell_type": "code",
   "execution_count": 45,
   "outputs": [],
   "source": [
    "def calculate_distance(cam, landmark) -> float:\n",
    "    cam_loc = (cam.calculate_coordinates())\n",
    "    landmark = landmark.reshape(cam_loc.shape)\n",
    "    return np.linalg.norm(cam_loc - landmark, ord=2, axis=0)\n",
    "\n",
    "\n",
    "def calculate_reprojection_errors_by_distance(tracks: pd.DataFrame, absolute_cameras: pd.Series, verbose=False):\n",
    "    start = time.time()\n",
    "    if verbose:\n",
    "        print(\"Calculating reprojection errors...\")\n",
    "    distances_left, distances_right = [], []\n",
    "    errors_left, errors_right = [], []\n",
    "\n",
    "    for i, trk_idx in enumerate(tracks.index.unique(level=c.TrackIdx)):\n",
    "        if verbose and i > 0 and i % 1000 == 0:\n",
    "            print(f\"\\tfinished {i} tracks in {(time.time() - start):.2f} seconds\")\n",
    "        track_data = tracks.xs(trk_idx, level=c.TrackIdx)\n",
    "        landmark = triangulate_landmark(track_data, absolute_cameras)\n",
    "\n",
    "        # calculate reprojection error\n",
    "        last_frame_idx = track_data.index.max()\n",
    "        for fr_idx in track_data.index[::-1]:  # take index in descending order\n",
    "            xl, xr, y = track_data.loc[fr_idx]\n",
    "\n",
    "            cam_left = absolute_cameras[fr_idx]\n",
    "            distances_left.append(calculate_distance(cam_left, landmark))\n",
    "            errors_left.append(calculate_pixel_error(cam_left, landmark, xl, y))\n",
    "\n",
    "            cam_right = cam_left.get_right_camera()\n",
    "            distances_right.append(calculate_distance(cam_right, landmark))\n",
    "            errors_right.append(calculate_pixel_error(cam_right, landmark, xr, y))\n",
    "\n",
    "    elapsed = time.time() - start\n",
    "    if verbose:\n",
    "        print(f\"Finished in {elapsed:.2f} seconds\")\n",
    "    return distances_left, distances_right, errors_left, errors_right"
   ],
   "metadata": {
    "collapsed": false,
    "pycharm": {
     "name": "#%%\n"
    }
   }
  },
  {
   "cell_type": "code",
   "execution_count": 46,
   "outputs": [],
   "source": [
    "# load and calculate:\n",
    "\n",
    "abs_pnp_cameras = load_abs_cameras(\"pnp_cameras\")\n",
    "pnp_results = calculate_reprojection_errors_by_distance(sample_tracks, abs_pnp_cameras, verbose=False)\n",
    "pnp_distances_left, pnp_distances_right, pnp_errors_left, pnp_errors_right = pnp_results\n",
    "\n",
    "abs_ba_cameras = load_abs_cameras(\"ba_cameras\")\n",
    "ba_results = calculate_reprojection_errors_by_distance(sample_tracks, abs_ba_cameras, verbose=False)\n",
    "ba_distances_left, ba_distances_right, ba_errors_left, ba_errors_right = ba_results"
   ],
   "metadata": {
    "collapsed": false,
    "pycharm": {
     "name": "#%%\n"
    }
   }
  },
  {
   "cell_type": "markdown",
   "source": [
    "Figure 10\n",
    "(there's a bug here but it's not interesting enough to explore further)"
   ],
   "metadata": {
    "collapsed": false,
    "pycharm": {
     "name": "#%% md\n"
    }
   }
  },
  {
   "cell_type": "code",
   "execution_count": 48,
   "outputs": [
    {
     "data": {
      "text/plain": "<Figure size 432x288 with 0 Axes>"
     },
     "metadata": {},
     "output_type": "display_data"
    },
    {
     "data": {
      "text/plain": "<Figure size 648x216 with 2 Axes>",
      "image/png": "[encoded data removed]"
     },
     "metadata": {
      "needs_background": "light"
     },
     "output_type": "display_data"
    }
   ],
   "source": [
    "plt.clf()\n",
    "fig, axes = plt.subplots(nrows=1, ncols=2, sharey=True, sharex=True, figsize=(9, 3))\n",
    "fig.subplots_adjust(top=0.9)\n",
    "fig.suptitle(\"Median Reprojection Errors vs. Distance from Landmark\", y=1.08, x=0.52)\n",
    "\n",
    "axes[0].set_title(\"Left Camera\")\n",
    "axes[0].scatter(pnp_distances_left, pnp_errors_left, c=COLORS[0], label=\"PnP\")\n",
    "axes[0].scatter(ba_distances_left, ba_errors_left, c=COLORS[2], label=\"BA\")\n",
    "axes[0].set_xlabel(\"Distance ($m$)\")\n",
    "axes[0].set_ylabel(\"Pixels\")\n",
    "axes[0].legend()\n",
    "\n",
    "axes[1].set_title(\"Right Camera\")\n",
    "axes[1].scatter(pnp_distances_right, pnp_errors_right, c=COLORS[0], label=\"PnP\")\n",
    "axes[1].scatter(ba_distances_right, ba_errors_right, c=COLORS[2], label=\"BA\")\n",
    "axes[1].set_xlabel(\"Distance ($m$)\")\n",
    "\n",
    "plt.show()"
   ],
   "metadata": {
    "collapsed": false,
    "pycharm": {
     "name": "#%%\n"
    }
   }
  },
  {
   "cell_type": "code",
   "execution_count": 54,
   "outputs": [],
   "source": [],
   "metadata": {
    "collapsed": false,
    "pycharm": {
     "name": "#%%\n"
    }
   }
  },
  {
   "cell_type": "code",
   "execution_count": null,
   "outputs": [],
   "source": [],
   "metadata": {
    "collapsed": false,
    "pycharm": {
     "name": "#%%\n"
    }
   }
  },
  {
   "cell_type": "code",
   "execution_count": null,
   "outputs": [],
   "source": [],
   "metadata": {
    "collapsed": false,
    "pycharm": {
     "name": "#%%\n"
    }
   }
  },
  {
   "cell_type": "code",
   "execution_count": 252,
   "outputs": [
    {
     "data": {
      "text/plain": "<Figure size 432x288 with 1 Axes>",
      "image/png": "[encoded data removed]"
     },
     "metadata": {
      "needs_background": "light"
     },
     "output_type": "display_data"
    }
   ],
   "source": [
    "# there's no meaning behind this mean+sem visualization. better to use median\n",
    "\n",
    "mean_err_l = pd.Series({k: v.mean() for k,v in pnp_errs_l.items()})\n",
    "sem_err_l = pd.Series({k: v.sem() for k,v in pnp_errs_l.items()})\n",
    "\n",
    "plt.clf()\n",
    "plt.plot(mean_err_l.index, mean_err_l, 'k-')\n",
    "plt.fill_between(mean_err_l.index, mean_err_l - sem_err_l, mean_err_l + sem_err_l, alpha=0.5, color='grey')\n",
    "\n",
    "plt.show()"
   ],
   "metadata": {
    "collapsed": false,
    "pycharm": {
     "name": "#%%\n"
    }
   }
  },
  {
   "cell_type": "code",
   "execution_count": 224,
   "outputs": [],
   "source": [],
   "metadata": {
    "collapsed": false,
    "pycharm": {
     "name": "#%%\n"
    }
   }
  }
 ],
 "metadata": {
  "kernelspec": {
   "display_name": "Python 3",
   "language": "python",
   "name": "python3"
  },
  "language_info": {
   "codemirror_mode": {
    "name": "ipython",
    "version": 2
   },
   "file_extension": ".py",
   "mimetype": "text/x-python",
   "name": "python",
   "nbconvert_exporter": "python",
   "pygments_lexer": "ipython2",
   "version": "2.7.6"
  }
 },
 "nbformat": 4,
 "nbformat_minor": 0
}